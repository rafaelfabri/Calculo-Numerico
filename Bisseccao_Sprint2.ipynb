{
  "nbformat": 4,
  "nbformat_minor": 0,
  "metadata": {
    "colab": {
      "name": "Bisseccao_Sprint2.ipynb",
      "provenance": [],
      "collapsed_sections": [],
      "authorship_tag": "ABX9TyMQWSM2rgvLg9iSHk7nzCUz",
      "include_colab_link": true
    },
    "kernelspec": {
      "display_name": "Python 3",
      "name": "python3"
    },
    "language_info": {
      "name": "python"
    }
  },
  "cells": [
    {
      "cell_type": "markdown",
      "metadata": {
        "id": "view-in-github",
        "colab_type": "text"
      },
      "source": [
        "<a href=\"https://colab.research.google.com/github/rafaelfabri/Calculo-Numerico/blob/main/Bisseccao_Sprint2.ipynb\" target=\"_parent\"><img src=\"https://colab.research.google.com/assets/colab-badge.svg\" alt=\"Open In Colab\"/></a>"
      ]
    },
    {
      "cell_type": "markdown",
      "metadata": {
        "id": "BN3C2TW35r_X"
      },
      "source": [
        "# **Código do 2° Sprint**\n",
        "\n",
        "Período do Sprint: 12/06 até 19/06.\n",
        "\n",
        "Duração: Uma semana.\n",
        "\n",
        "Grupo: Alisson Aragão, Matheus Lara, Otávio Leme, Rafael Fabri e Wilian de Camargo.\n",
        "\n",
        "Prof. Dr. Gislaine Cristina Batistela.\n",
        "\n"
      ]
    },
    {
      "cell_type": "markdown",
      "metadata": {
        "id": "-1lJvCvY6uX6"
      },
      "source": [
        "Abaixo encontra-se o código em Python desse primeiro Sprint.\n",
        "\n"
      ]
    },
    {
      "cell_type": "code",
      "metadata": {
        "id": "h_uKmD5f5kQJ"
      },
      "source": [
        "import matplotlib.pyplot as plt\n",
        "import numpy as np\n",
        "import seaborn as sns\n",
        "\n",
        "print('Bem vindo ao algoritimo do Método da Bisseção\\n\\n')\n",
        "\n",
        "print('Entre com uma função:')\n",
        "\n",
        "equacao = input()\n",
        "\n",
        "alternativa = 'Repetir'\n",
        "\n",
        "print('Agora você pode plotar um gráfico com o intervalo que deseja')\n",
        "\n",
        "while (alternativa == 'Repetir') or (alternativa == 'repetir'):\n",
        "    print('entre com o intervalo que deseja ver o gráfico da função\\n:')\n",
        "    x1 = float(input('entre com o primeiro intervalo:'))\n",
        "    x2 = float(input('entre com o segundo intervalo:'))\n",
        "\n",
        "    if x2 < x1:\n",
        "        z = x1\n",
        "        x1 = x2\n",
        "        x2 = z\n",
        "\n",
        "\n",
        "    y = []\n",
        "    aux = np.arange(x1, x2, 0.01)\n",
        "    for i in range(0, len(aux), 1):\n",
        "        x = float(aux[i])\n",
        "        y.append(eval(equacao))\n",
        "\n",
        "    fig, ax = plt.subplots(figsize=(8,6))\n",
        "    sns.lineplot(x=list(aux), y=y, ax=ax)\n",
        "    fig.savefig(\"mygraph.png\")\n",
        "\n",
        "    print('Você encontrou alguma raiz com intervalo verificado?\\n')\n",
        "\n",
        "    print('Caso não tenha encontrado, digite repetir para colocar outro intervalo para ver o gráfico\\n')\n",
        "\n",
        "    print('Caso tenha encontrado apenas digite enter\\n')\n",
        "\n",
        "    alternativa = input('Digite aqui...');\n",
        "\n",
        "\n",
        "resultado = 10\n",
        "x_1 = []\n",
        "x_2 = []\n",
        "while resultado > 0:\n",
        "    print('Digite abaixo o intervalo para encontrar a raiz pelo método da Bissecção')\n",
        "    x_1.append( float(input('entre com o menor valor do intervalo')) );\n",
        "    x_2.append( float(input('entre com o maior valor do intervalo')) );\n",
        "\n",
        "    x = float(x_1[-1])\n",
        "    aux_1 = eval(equacao)\n",
        "    x = float(x_2[-1])\n",
        "    resultado = aux_1*eval(equacao)\n",
        "\n",
        "    if resultado<0:\n",
        "        print('\\n')\n",
        "        print('Parábens, há uma raiz neste intervalo!\\n')\n",
        "        min_error = float(input('Entre com o valor para o critério de parada:'))\n",
        "    else:\n",
        "        print('Por favor, repita o intervalo, pois não há nenhuma raiz no intervalo\\n')\n",
        "\n",
        "calculo_erro = []\n",
        "x_medio = []\n",
        "\n",
        "\n",
        "x_medio.append(float((x_1[0] + x_2[0]) / 2))\n",
        "\n",
        "erro = 1000.0\n",
        "\n",
        "i=0\n",
        "while (erro > min_error):\n",
        "    x = float(x_1[-1])\n",
        "    resultado_x_1 = eval(equacao)\n",
        "    x = float(x_medio[-1])\n",
        "    resultado_x_medio = eval(equacao)\n",
        "\n",
        "    if (resultado_x_1*resultado_x_medio) < 0:\n",
        "        aux_x_medio = float(x_medio[-1])\n",
        "        x_2.append( float(x_medio[-1]) )\n",
        "        x_medio.append( float((x_1[-1] + x_2[-1]) / 2 ))\n",
        "        calculo_erro.append( abs(x_medio[-1] - aux_x_medio)/x_medio[-1] )\n",
        "        erro = calculo_erro[i]\n",
        "        i = i + 1\n",
        "\n",
        "    elif (resultado_x_1*resultado_x_medio) > 0:\n",
        "        aux_x_medio = float(x_medio[-1])\n",
        "        x_1.append( float(x_medio[-1]) )\n",
        "        x_medio.append( float((x_1[-1] + x_2[-1]) / 2) )\n",
        "        calculo_erro.append( abs((x_medio[-1] - aux_x_medio) / x_medio[-1] ) )\n",
        "        erro = calculo_erro[i]\n",
        "        i = i + 1\n",
        "\n",
        "    elif (resultado_x_1*resultado_x_medio) == 0:\n",
        "        erro = 0.0000000001\n",
        "\n",
        "print('\\n')\n",
        "print('A raiz da função é:', round(x_medio[-1],4))"
      ],
      "execution_count": null,
      "outputs": []
    }
  ]
}