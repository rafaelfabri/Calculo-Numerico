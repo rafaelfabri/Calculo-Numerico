{
  "nbformat": 4,
  "nbformat_minor": 0,
  "metadata": {
    "colab": {
      "name": "Bisseccao_Sprint1.ipynb",
      "provenance": [],
      "authorship_tag": "ABX9TyOBC5eLv2HFNdgL2zlFzam4",
      "include_colab_link": true
    },
    "kernelspec": {
      "name": "python3",
      "display_name": "Python 3"
    },
    "language_info": {
      "name": "python"
    }
  },
  "cells": [
    {
      "cell_type": "markdown",
      "metadata": {
        "id": "view-in-github",
        "colab_type": "text"
      },
      "source": [
        "<a href=\"https://colab.research.google.com/github/rafaelfabri/Calculo-Numerico/blob/main/Bisseccao_Sprint1.ipynb\" target=\"_parent\"><img src=\"https://colab.research.google.com/assets/colab-badge.svg\" alt=\"Open In Colab\"/></a>"
      ]
    },
    {
      "cell_type": "markdown",
      "metadata": {
        "id": "BN3C2TW35r_X"
      },
      "source": [
        "# **Código do Encerramento do 1° Sprint**\n",
        "\n",
        "Período do Sprint: 29/05 até 12/06.\n",
        "\n",
        "Duração: Duas semanas.\n",
        "\n",
        "Grupo: Alisson Aragão, Douglas Camargo, Matheus Lara, Otávio Leme, Rafael Fabri e Wilian de Camargo.\n",
        "\n",
        "Prof. Dr. Gislaine Cristina Batistela.\n",
        "\n"
      ]
    },
    {
      "cell_type": "markdown",
      "metadata": {
        "id": "wySDpggW-Usy"
      },
      "source": [
        "Resumo do Sprint: Criação do primeiro código em Python com o algoritimo para encontrar as raizes de um função pelo método da Bissecção. O objetivo final desse Sprint foi gerar um executável que possibilitasse o uso do código."
      ]
    },
    {
      "cell_type": "markdown",
      "metadata": {
        "id": "-1lJvCvY6uX6"
      },
      "source": [
        "Abaixo encontra-se o código em Python desse primeiro Sprint."
      ]
    },
    {
      "cell_type": "code",
      "metadata": {
        "id": "h_uKmD5f5kQJ"
      },
      "source": [
        "import matplotlib.pyplot as plt\n",
        "import numpy as np\n",
        "import seaborn as sns\n",
        "\n",
        "print('Bem vindo ao algoritimo do Método da Bisseção\\n\\n')\n",
        "\n",
        "print('Entre com uma função:')\n",
        "\n",
        "equacao = input()\n",
        "\n",
        "alternativa = 'Repetir'\n",
        "\n",
        "print('Agora você pode plotar um gráfico com o intervalo que deseja')\n",
        "\n",
        "while (alternativa == 'Repetir') or (alternativa == 'repetir'):\n",
        "    print('entre com o intervalo que deseja ver o gráfico da função\\n:')\n",
        "    x1 = float(input('entre com o primeiro intervalo:'))\n",
        "    x2 = float(input('entre com o segundo intervalo'))\n",
        "\n",
        "    if x2 < x1:\n",
        "        z = x1\n",
        "        x1 = x2\n",
        "        x2 = z\n",
        "\n",
        "\n",
        "    y = []\n",
        "    aux = np.arange(x1, x2, 0.01)\n",
        "    print(aux)\n",
        "    for i in range(0, len(aux), 1):\n",
        "        x = aux[i]\n",
        "        y.append(eval(equacao))\n",
        "\n",
        "    fig, ax = plt.subplots(figsize=(8,6))\n",
        "    sns.lineplot(x=list(aux), y=y, ax=ax)\n",
        "    fig.savefig(\"mygraph.png\")\n",
        "\n",
        "    print('Você encontrou alguma raiz com intervalo verificado?\\n')\n",
        "\n",
        "    print('Caso não tenha encontrado, digite repetir para colocar outro intervalo para ver o gráfico\\n')\n",
        "\n",
        "    print('Caso tenha encontrado apenas digite enter\\n')\n",
        "\n",
        "    alternativa = input('Digite aqui...')\n",
        "\n",
        "\n",
        "resultado = 10\n",
        "x_1 = []\n",
        "x_2 = []\n",
        "while resultado > 0:\n",
        "    print('Digite abaixo o intervalo para encontrar a raiz pelo método da Bissecção')\n",
        "    x_1.append( float(input('entre com o menor valor do intervalo')) )\n",
        "    x_2.append( float(input('entre com o maior valor do intervalo')) )\n",
        "\n",
        "    x = x_1[-1]\n",
        "    aux_1 = eval(equacao)\n",
        "    x = x_2[-1]\n",
        "    resultado = aux_1*eval(equacao)\n",
        "\n",
        "    if resultado<0:\n",
        "        print('\\n')\n",
        "        print('Parábens, há uma raiz neste intervalo!\\n')\n",
        "        min_error = float(input('Entre com o valor para o critério de parada:'))\n",
        "    else:\n",
        "        print('Por favor, repita o intervalo, pois não há nenhuma raiz no intervalo\\n')\n",
        "\n",
        "calculo_erro = []\n",
        "x_medio = []\n",
        "\n",
        "x_medio.append((x_1[0] + x_2[0]) / 2)\n",
        "calculo_erro.append(1000.0)\n",
        "\n",
        "while (float(calculo_erro[-1]) > min_error):\n",
        "    x = float(x_1[-1])\n",
        "    resultado_x_1 = eval(equacao)\n",
        "    x = float(x_medio[-1])\n",
        "    resultado_x_medio = eval(equacao)\n",
        "\n",
        "    if (resultado_x_1*resultado_x_medio) < 0:\n",
        "        aux_x_medio = x_medio[-1]\n",
        "        x_2.append( x_medio[-1] )\n",
        "        x_medio.append( (x_1[-1] + x_2[-1]) / 2 )\n",
        "        calculo_erro.append( abs((x_medio[-1] - aux_x_medio)/x_medio[-1]) )\n",
        "\n",
        "\n",
        "        x = float(x_1[-1])\n",
        "        resultado_x_1 = eval(equacao)\n",
        "        x = float(x_medio[-1])\n",
        "        resultado_x_medio = eval(equacao)\n",
        "\n",
        "\n",
        "    elif (resultado_x_1*resultado_x_medio) > 0:\n",
        "        aux_x_medio = x_medio[-1]\n",
        "        x_1.append( x_medio[-1] )\n",
        "        x_medio.append( (x_1[-1] + x_2[-1]) / 2 )\n",
        "        calculo_erro.append( abs((x_medio[-1] - aux_x_medio) / x_medio[-1]) )\n",
        "\n",
        "        x = float(x_1[-1])\n",
        "        resultado_x_1 = eval(equacao)\n",
        "        x = float(x_medio[-1])\n",
        "        resultado_x_medio = eval(equacao)\n",
        "\n",
        "\n",
        "    elif (resultado_x_1*resultado_x_medio) == 0:\n",
        "        calculo_erro = 0\n",
        "\n",
        "print('\\n')\n",
        "print('A raiz da função é:', round(x_medio[-1],4))"
      ],
      "execution_count": null,
      "outputs": []
    }
  ]
}